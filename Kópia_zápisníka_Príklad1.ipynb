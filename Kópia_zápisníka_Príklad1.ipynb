{
  "nbformat": 4,
  "nbformat_minor": 0,
  "metadata": {
    "colab": {
      "provenance": [],
      "authorship_tag": "ABX9TyMc82j91pumgxLBtSL6pwkX",
      "include_colab_link": true
    },
    "kernelspec": {
      "name": "python3",
      "display_name": "Python 3"
    },
    "language_info": {
      "name": "python"
    }
  },
  "cells": [
    {
      "cell_type": "markdown",
      "metadata": {
        "id": "view-in-github",
        "colab_type": "text"
      },
      "source": [
        "<a href=\"https://colab.research.google.com/github/lubolacko/DeepLearning-and-Neural-Networks/blob/main/K%C3%B3pia_z%C3%A1pisn%C3%ADka_Pr%C3%ADklad1.ipynb\" target=\"_parent\"><img src=\"https://colab.research.google.com/assets/colab-badge.svg\" alt=\"Open In Colab\"/></a>"
      ]
    },
    {
      "cell_type": "code",
      "execution_count": null,
      "metadata": {
        "id": "ogk2rkpt_eD6"
      },
      "outputs": [],
      "source": []
    },
    {
      "cell_type": "markdown",
      "source": [
        "Príklad1"
      ],
      "metadata": {
        "id": "vHjAntO__hu1"
      }
    },
    {
      "cell_type": "code",
      "source": [],
      "metadata": {
        "id": "0EaR-cK4_jFX"
      },
      "execution_count": null,
      "outputs": []
    }
  ]
}