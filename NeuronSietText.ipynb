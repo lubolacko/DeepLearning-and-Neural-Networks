{
 "cells": [
  {
   "cell_type": "markdown",
   "metadata": {
    "id": "RFEsu5eOuZD9"
   },
   "source": [
    "# Neurónová sieť\n",
    "Rozpoznávanie a generovanie textu"
   ]
  },
  {
   "cell_type": "markdown",
   "metadata": {
    "id": "1Gp2foyxnHD-"
   },
   "source": [
    "Kniha Rivers of Babylon od Petra Pišťanka\n",
    "\n",
    "prvý odstavec z knihy\n",
    "\n",
    "*Ráno sa kotolník zobúdza s takou nenávisťou v duši, že mu ani jesť nechutí. Vylihuje na drevenej lavici, škrabe si svrbiacu kožu, napnutú na vysadených rebrách, a tupo sa obzerá. Neskúša premýšľať nad zdrojom tejto nenávisti. Kotolňa je temná, so zájdenými a obitými stenami. Vychladnuté kotly sa rysujú v tme. Preháňa sa v nich vietor.*\n"
   ]
  },
  {
   "cell_type": "markdown",
   "metadata": {
    "id": "Le73mudEngYt"
   },
   "source": [
    "ráno sa kotolník zobúdza s -  **takou**\n",
    "\n",
    "sa kotolník zobúdza s takou - **nenávisťou**\n",
    "\n",
    "kotolník zobúdza s takou nenávisťou - **v**\n",
    "\n",
    "zobúdza s takou nenávisťou v - **duši**\n",
    "\n",
    "s takou nenávisťou v duši - **že**\n",
    "\n",
    "takou nenávisťou v duši že - **mu**\n",
    "\n",
    "nenávisťou v duši že mu - **ani**\n",
    "\n",
    "v duši že mu ani - **jesť**\n",
    "\n",
    "duši že mu ani jesť– **nechutí**\n",
    "\n"
   ]
  },
  {
   "cell_type": "code",
   "execution_count": 1,
   "metadata": {
    "colab": {
     "base_uri": "https://localhost:8080/"
    },
    "id": "Ym3M1K8fuL0_",
    "outputId": "08c3cdcc-e180-4934-fb88-c838d50f06e9"
   },
   "outputs": [],
   "source": [
    "#načítanie knihy \n",
    "#načítanie knihy\n",
    "kniha1 = open('./Rivers of Babylon.txt', 'r', encoding=\"utf8\")\n",
    "kniha1 = kniha1.read()\n",
    "#kniha1"
   ]
  },
  {
   "cell_type": "markdown",
   "metadata": {
    "id": "7mEQXDA_wHmQ"
   },
   "source": [
    "Zoznam slov z knihy"
   ]
  },
  {
   "cell_type": "code",
   "execution_count": 2,
   "metadata": {
    "id": "jeD264UkwJyq"
   },
   "outputs": [
    {
     "name": "stderr",
     "output_type": "stream",
     "text": [
      "[nltk_data] Downloading package punkt to\n",
      "[nltk_data]     C:\\Users\\llack\\AppData\\Roaming\\nltk_data...\n",
      "[nltk_data]   Package punkt is already up-to-date!\n"
     ]
    },
    {
     "data": {
      "text/plain": [
       "['ráno',\n",
       " 'sa',\n",
       " 'kotolník',\n",
       " 'zobúdza',\n",
       " 's',\n",
       " 'takou',\n",
       " 'nenávisťou',\n",
       " 'v',\n",
       " 'duši',\n",
       " ',',\n",
       " 'že',\n",
       " 'mu',\n",
       " 'ani',\n",
       " 'jesť',\n",
       " 'nechutí',\n",
       " '.',\n",
       " 'vylihuje',\n",
       " 'na',\n",
       " 'drevenej',\n",
       " 'lavici',\n",
       " ',',\n",
       " 'škrabe',\n",
       " 'si',\n",
       " 'svrbiacu',\n",
       " 'kožu',\n",
       " ',',\n",
       " 'napnutú',\n",
       " 'na',\n",
       " 'vysadených',\n",
       " 'rebrách']"
      ]
     },
     "execution_count": 2,
     "metadata": {},
     "output_type": "execute_result"
    }
   ],
   "source": [
    "import nltk\n",
    "nltk.download('punkt')\n",
    "from nltk.tokenize import word_tokenize\n",
    "\n",
    "slova = word_tokenize(kniha1.lower())\n",
    "slova [:30]"
   ]
  },
  {
   "cell_type": "markdown",
   "metadata": {
    "id": "7rjBd5WpwwYB"
   },
   "source": [
    "Vytvorenie vyčisteného zoznamu slov"
   ]
  },
  {
   "cell_type": "code",
   "execution_count": 3,
   "metadata": {},
   "outputs": [
    {
     "data": {
      "text/plain": [
       "'!\"#$%&\\'()*+,-./:;<=>?@[\\\\]^_`{|}~'"
      ]
     },
     "execution_count": 3,
     "metadata": {},
     "output_type": "execute_result"
    }
   ],
   "source": [
    "import string\n",
    "zoznam_slov = []\n",
    "neabecedne_znaky = string.punctuation\n",
    "neabecedne_znaky"
   ]
  },
  {
   "cell_type": "code",
   "execution_count": 4,
   "metadata": {
    "id": "yRpniBIuwy5U"
   },
   "outputs": [
    {
     "name": "stdout",
     "output_type": "stream",
     "text": [
      "Počet slov: 90374 unikátnych 19679\n"
     ]
    },
    {
     "data": {
      "text/plain": [
       "['ráno',\n",
       " 'sa',\n",
       " 'kotolník',\n",
       " 'zobúdza',\n",
       " 's',\n",
       " 'takou',\n",
       " 'nenávisťou',\n",
       " 'v',\n",
       " 'duši',\n",
       " 'že',\n",
       " 'mu',\n",
       " 'ani',\n",
       " 'jesť',\n",
       " 'nechutí',\n",
       " 'vylihuje',\n",
       " 'na',\n",
       " 'drevenej',\n",
       " 'lavici',\n",
       " 'škrabe',\n",
       " 'si',\n",
       " 'svrbiacu',\n",
       " 'kožu',\n",
       " 'napnutú',\n",
       " 'na',\n",
       " 'vysadených',\n",
       " 'rebrách',\n",
       " 'a',\n",
       " 'tupo',\n",
       " 'sa',\n",
       " 'obzerá']"
      ]
     },
     "execution_count": 4,
     "metadata": {},
     "output_type": "execute_result"
    }
   ],
   "source": [
    "for slovo in slova:\n",
    "        for char in slovo:\n",
    "            if char in neabecedne_znaky:\n",
    "                slovo = slovo.replace(char, \"\")\n",
    "        if slovo not in neabecedne_znaky:\n",
    "            zoznam_slov.append(slovo)\n",
    "print(\"Počet slov:\", len(zoznam_slov), \"unikátnych\", len(set(zoznam_slov)))\n",
    "zoznam_slov [:30]"
   ]
  },
  {
   "cell_type": "markdown",
   "metadata": {
    "id": "KM5tgQ3-znzt"
   },
   "source": [
    "slovník a transformácia slov na číselné hodnoty\n",
    "\n",
    "Pomocou funkcie enumerate() slová z našej dátovej množiny očíslujeme"
   ]
  },
  {
   "cell_type": "code",
   "execution_count": 7,
   "metadata": {
    "colab": {
     "base_uri": "https://localhost:8080/"
    },
    "id": "4ZF4O1rozy7i",
    "outputId": "aae008d2-8ac9-4efd-c1c6-db34d08f41e9"
   },
   "outputs": [
    {
     "name": "stdout",
     "output_type": "stream",
     "text": [
      "Slovná zásoba na trénovanie má 90374 slov, unikátnych slov je 19679\n"
     ]
    },
    {
     "data": {
      "text/plain": [
       "[4021, 16558, 318, 11758, 19393, 19451, 746, 19370, 10975, 12644]"
      ]
     },
     "execution_count": 7,
     "metadata": {},
     "output_type": "execute_result"
    }
   ],
   "source": [
    "slovnik= set(zoznam_slov) #unikátne slová\n",
    "print(\"Slovná zásoba na trénovanie má\", len(zoznam_slov),\"slov, unikátnych slov je\", len(slovnik))\n",
    "indexy_slov = {slovo: i for i, slovo in enumerate(slovnik)}\n",
    "zoznam_indexov_slov = [indexy_slov[slovo] for slovo in zoznam_slov]\n",
    "zoznam_indexov_slov[:10]\n",
    "#zoznam_slov[:10]\n",
    "#indexy_slov"
   ]
  },
  {
   "cell_type": "markdown",
   "metadata": {
    "id": "Phre4LYt5YfM"
   },
   "source": [
    "trénovacia množina, pätice za sebou idúcich slov, zakaždým o jeden index posunuté"
   ]
  },
  {
   "cell_type": "code",
   "execution_count": 8,
   "metadata": {
    "colab": {
     "base_uri": "https://localhost:8080/"
    },
    "id": "fxy-nxEt5Zji",
    "outputId": "30ed10a9-46d8-41f5-ca51-469e6fe21590"
   },
   "outputs": [
    {
     "data": {
      "text/plain": [
       "[([4021, 16558, 318, 11758, 19393], 19451),\n",
       " ([16558, 318, 11758, 19393, 19451], 746),\n",
       " ([318, 11758, 19393, 19451, 746], 19370),\n",
       " ([11758, 19393, 19451, 746, 19370], 10975),\n",
       " ([19393, 19451, 746, 19370, 10975], 12644),\n",
       " ([19451, 746, 19370, 10975, 12644], 7350),\n",
       " ([746, 19370, 10975, 12644, 7350], 2398),\n",
       " ([19370, 10975, 12644, 7350, 2398], 17736),\n",
       " ([10975, 12644, 7350, 2398, 17736], 1996),\n",
       " ([12644, 7350, 2398, 17736, 1996], 17400)]"
      ]
     },
     "execution_count": 8,
     "metadata": {},
     "output_type": "execute_result"
    }
   ],
   "source": [
    "davka=5\n",
    "pocet_slov = len(zoznam_slov) #pocet slov knihy\n",
    "trenovacia_mnozina = [([zoznam_indexov_slov[i], zoznam_indexov_slov[i+1], zoznam_indexov_slov[i+2], zoznam_indexov_slov[i+3],\n",
    "                        zoznam_indexov_slov[i+4]], zoznam_indexov_slov[i+5]) for i in range(pocet_slov-davka) ]\n",
    "trenovacia_mnozina[:10]"
   ]
  },
  {
   "cell_type": "markdown",
   "metadata": {
    "id": "-Xqvj1k3gef5"
   },
   "source": [
    "**Trieda dedfinujúca model neurónovej siete**"
   ]
  },
  {
   "cell_type": "code",
   "execution_count": 9,
   "metadata": {
    "id": "d2vOAnz5gdAL"
   },
   "outputs": [],
   "source": [
    "import torch\n",
    "import torch.nn as nn\n",
    "import torch.nn.functional as F\n",
    "import torch.optim as optim\n",
    "import time\n",
    "\n",
    "embedding_dim = 5  #veľkosť embedding vektorov\n",
    "# === Trieda definujúca model neurónovej siete ===\n",
    "# Embedding (vložená vrstva) je skrytá vrstva NS ktorá\n",
    "# mapuje vstupné informácie z vysoko do nízko rozmerného priestoru\n",
    "\n",
    "class Model_NS(nn.Module):\n",
    "  def __init__(self, pocet_slov, embedding_dim, davka):\n",
    "    super(Model_NS, self).__init__()\n",
    "    self.embeddings = nn.Embedding(pocet_slov, embedding_dim)\n",
    "    self.linear1 = nn.Linear(davka * embedding_dim,128)  # lineárne transformácie ako vrstvy NS\n",
    "    self.linear2 = nn.Linear(128, 512)\n",
    "    self.linear3 = nn.Linear(512, pocet_slov)\n",
    "\n",
    "   # pri predpovedaní informácie prúdia „dopredu“\n",
    "   # zo vstupu cez skryté vrstvy na výstup\n",
    "   # výstupom sú logaritmy pravdepodobností\n",
    "  def forward(self, inputs):  # pri predpovedaní\n",
    "    embs = self.embeddings(inputs).view((1,-1))\n",
    "    out = F.relu(self.linear1(embs)) #lineárna aktivačná funkcia\n",
    "    out = F.relu(self.linear2(out))\n",
    "    out = self.linear3(out)\n",
    "    log_pravdepodobnosti = F.log_softmax(out, dim=1) #konvertuje číselné hodnoty na pravdepodobnosti\n",
    "    return log_pravdepodobnosti"
   ]
  },
  {
   "cell_type": "code",
   "execution_count": 10,
   "metadata": {
    "colab": {
     "base_uri": "https://localhost:8080/"
    },
    "id": "6B-_OQ1jgvut",
    "outputId": "1f523ed7-95c2-4883-feda-53764e7282d1"
   },
   "outputs": [
    {
     "name": "stdout",
     "output_type": "stream",
     "text": [
      "Embedding(90374, 5) \n",
      "\n"
     ]
    },
    {
     "data": {
      "text/plain": [
       "Model_NS(\n",
       "  (embeddings): Embedding(90374, 5)\n",
       "  (linear1): Linear(in_features=25, out_features=128, bias=True)\n",
       "  (linear2): Linear(in_features=128, out_features=512, bias=True)\n",
       "  (linear3): Linear(in_features=512, out_features=90374, bias=True)\n",
       ")"
      ]
     },
     "execution_count": 10,
     "metadata": {},
     "output_type": "execute_result"
    }
   ],
   "source": [
    "# výpis parametrov modelu\n",
    "model = Model_NS(pocet_slov, embedding_dim, davka)\n",
    "print(model.embeddings,\"\\n\")\n",
    "model"
   ]
  },
  {
   "cell_type": "markdown",
   "metadata": {
    "id": "wjo3X77zpSLj"
   },
   "source": [
    "**Trénovanie modelu**"
   ]
  },
  {
   "cell_type": "code",
   "execution_count": null,
   "metadata": {
    "id": "3FTtyLHdowtR"
   },
   "outputs": [],
   "source": [
    "# === trénovanie modelu ===\n",
    "from torch.cuda import is_available\n",
    "\n",
    "# Pokiaľ možno na GPU\n",
    "if torch.cuda.is_available():\n",
    "  device = torch.device(\"cuda:0\")\n",
    "else:\n",
    "  device = torch.device(\"cpu\")\n",
    "\n",
    "priebezne_chyby = []  # chyby po každých 1000 krokoch trénovania\n",
    "\n",
    "\n",
    "def trenovanie(model, trenovacie_data, n_iteracie, word_to_index):\n",
    "  model.to(device)\n",
    "  for i in range(n_iteracie):\n",
    "    model.train()\n",
    "    krok = 0\n",
    "    perioda_vypisu = 1000\n",
    "    akumulovana_chyba = 0  # na výpočet priemernej chyby po každých 1000 krokoch\n",
    "\n",
    "    for feature, target in trenovacie_data:\n",
    "      feature_tensor = torch.tensor([feature], dtype=torch.long)\n",
    "      feature_tensor = feature_tensor.to(device)\n",
    "      target_tensor = torch.tensor([target], dtype=torch.long)\n",
    "      target_tensor = target_tensor.to(device)\n",
    "      model.zero_grad()  #vynulovanie gradientov\n",
    "      log_probs = model(feature_tensor)\n",
    "      loss = criterion(log_probs, target_tensor)\n",
    "    \n",
    "    #Spätný prechod pri aktualizácii parametrov\n",
    "      loss.backward()    #Spätný prechod pri aktualizácii parametrov\n",
    "      optimizer.step()\n",
    "      akumulovana_chyba += loss.item()\n",
    "      krok+=1\n",
    "\n",
    "      if krok % perioda_vypisu == 0:  #každých 1000 krokov\n",
    "        model.eval()\n",
    "        priemerna_chyba = akumulovana_chyba/perioda_vypisu\n",
    "        priebezne_chyby.append(priemerna_chyba) #pridám do zoznamu\n",
    "        print(i+1,\"z\",n_iteracie, \"iterácií\", krok,\"krok z\",pocet_slov,\n",
    "               \"Chyba: {:.3f}\".format(priemerna_chyba))\n",
    "        akumulovana_chyba=0\n",
    "    model.train()\n",
    "  return model\n"
   ]
  },
  {
   "cell_type": "markdown",
   "metadata": {},
   "source": [
    "**Spätná propagácia – (backward propagation)**\n",
    "rieši úpravu váh neurónových spojení tak, aby neurónová sieť poskytovala výstup, ktorý je bližší k požadovanému výsledku, čiže minimalizujeme stratovú funkciu. \n",
    "\n",
    "Tento proces prebieha opačne od výstupov k vstupom. Ako prvý sa vypočíta gradient váh poslednej výstupnej vrstvy a ako posledný sa vypočíta gradient váh prvej vrstvy. \n",
    "\n",
    "Výsledky výpočtu gradientu z príslušnej  vrstvy sa použijú pri výpočte gradientu pre predchádzajúcu vrstvu."
   ]
  },
  {
   "cell_type": "markdown",
   "metadata": {},
   "source": [
    "**Spustenie trénovania pre daný počet iterácií**"
   ]
  },
  {
   "cell_type": "code",
   "execution_count": null,
   "metadata": {
    "id": "hlgBhDwDo9WF"
   },
   "outputs": [],
   "source": [
    "model = Model_NS(pocet_slov, embedding_dim, davka)\n",
    "criterion = nn.NLLLoss()\n",
    "optimizer = optim.SGD(model.parameters(),lr=0.01)\n",
    "\n",
    "n_iteracie = 10\n",
    "\n",
    "start_time = time.time()\n",
    "\n",
    "model = trenovanie(model, trenovacia_mnozina, n_iteracie, indexy_slov)\n",
    "print(\"Trénovanie modelu trvalo {} minút\".format(round((start_time - time.time())/60),2))\n",
    "\n",
    "# Doplnenie modelu\n",
    "model.average_loss = priebezne_chyby\n",
    "model.optimizer_state = optimizer.state_dict()\n",
    "model.word_to_index = indexy_slov,\n",
    "model.index_to_word = {i: word for i, word in enumerate(slovnik)}"
   ]
  },
  {
   "cell_type": "code",
   "execution_count": null,
   "metadata": {
    "id": "DdDK3ckCNnRZ"
   },
   "outputs": [],
   "source": [
    "model.device = device"
   ]
  },
  {
   "cell_type": "markdown",
   "metadata": {
    "id": "6xy5vjvkpdcx"
   },
   "source": [
    "**Graf priebežných chýb počas trénovania**"
   ]
  },
  {
   "cell_type": "code",
   "execution_count": null,
   "metadata": {
    "colab": {
     "base_uri": "https://localhost:8080/",
     "height": 447
    },
    "id": "430tV0rKpM-w",
    "outputId": "87d95e5c-acc8-4cd0-b790-1da51b98b8a4"
   },
   "outputs": [
    {
     "data": {
      "text/plain": [
       "<Axes: >"
      ]
     },
     "execution_count": 10,
     "metadata": {},
     "output_type": "execute_result"
    },
    {
     "data": {
      "image/png": "[encoded data removed]",
      "text/plain": [
       "<Figure size 640x480 with 1 Axes>"
      ]
     },
     "metadata": {},
     "output_type": "display_data"
    }
   ],
   "source": [
    "import pandas as pd\n",
    "\n",
    "loss_plot = pd.DataFrame(priebezne_chyby)\n",
    "loss_plot.plot()"
   ]
  },
  {
   "cell_type": "markdown",
   "metadata": {
    "id": "8bRfYi3ipqcy"
   },
   "source": [
    "**Funkcia na predpovedanie slov poviedky**"
   ]
  },
  {
   "cell_type": "code",
   "execution_count": null,
   "metadata": {
    "id": "L7YCS2-4poUh"
   },
   "outputs": [],
   "source": [
    "import pandas as pd\n",
    "import random\n",
    "\n",
    "\n",
    "def predpoved(model, zaciatok_poviedky ,dlzka_poviedky ,top_slova):\n",
    "    # top_slova - slovo sa vyberie náhodne z top_k počtu\n",
    "\n",
    "    # Prvých 5 slov do poviedky\n",
    "    vstupy = (zaciatok_poviedky.lower()).split(\" \") # Prvých 5 slov\n",
    "    for i in vstupy:\n",
    "        poviedka.append(i)\n",
    "    for i in range(dlzka_poviedky):\n",
    "        # slová na čísla (indexy)\n",
    "        vstupy_ix = torch.tensor([indexy_slov[word] for word in vstupy], dtype=torch.long)\n",
    "        vstupy_ix = vstupy_ix.to(device)\n",
    "        with torch.no_grad(): # nevoláme Tensor.backward() nemusíme počítať gradienty\n",
    "            output = model.double().forward(vstupy_ix)\n",
    "        ps = torch.exp(output)\n",
    "        top_kombinacia_indexy = ps.topk(top_slova, sorted=True)\n",
    "        #top_n najpravdepodobnejších slov\n",
    "        topk_ps = top_kombinacia_indexy[0][0]\n",
    "        top_ntica = top_kombinacia_indexy[1][0]\n",
    "        top_ntica = [model.index_to_word[int(i)] for i in top_ntica]\n",
    "        # náhodný výber slova z top_n\n",
    "        next_word = random.choice(top_ntica)\n",
    "        vstupy = vstupy[1:]  # pridanie slova do vstupov a posunutie\n",
    "        vstupy.append(next_word)\n",
    "        poviedka.append(next_word)  # pridanie slova do poviedky\n",
    "    return poviedka"
   ]
  },
  {
   "cell_type": "markdown",
   "metadata": {
    "id": "xuQVirDbqADi"
   },
   "source": [
    "**Generovanie poviedky**"
   ]
  },
  {
   "cell_type": "code",
   "execution_count": null,
   "metadata": {
    "colab": {
     "base_uri": "https://localhost:8080/"
    },
    "id": "RWdpLhUkqDcK",
    "outputId": "7e3069e0-d2c3-4500-9e43-cdd784a18ac1",
    "scrolled": false
   },
   "outputs": [
    {
     "name": "stdout",
     "output_type": "stream",
     "text": [
      "Zadaj prvých 5 slov poviedky:\n",
      "obloha čoraz častejšie dostáva farbu\n",
      "\n",
      "=== Poviedka ===\n",
      "obloha čoraz častejšie dostáva farbu pri kotla tvárami laza aj dolu vezme o ráz chodníku až za keď po chvíli ale patrí na právnika zatiaľ\n"
     ]
    }
   ],
   "source": [
    "zaciatok_poviedky = input('Zadaj prvých {} slov poviedky:\\n'.format(davka))\n",
    "\n",
    "top_slova = 3 # Slovo sa vyberie náhodne z top_k počtu\n",
    "dlzka_poviedky = 20\n",
    "poviedka = []\n",
    "\n",
    "if torch.cuda.is_available():\n",
    "    device = torch.device(\"cuda:0\")\n",
    "else:\n",
    "    device = torch.device(\"cpu\")\n",
    "\n",
    "# osetrenie vstupu, treba zadať 5 slov, ktoré model pozná\n",
    "try:\n",
    "    predikcia = predpoved(model, zaciatok_poviedky, dlzka_poviedky, top_slova)\n",
    "except KeyError as error:\n",
    "    print('niektorému zo slov zatiaľ nerozumiem\\n zadaj slová z kníh na ktorých som sa učil nie ', error)\n",
    "    if poviedka[0] != \"\":\n",
    "        poviedka = poviedka[len(zaciatok_poviedky):]\n",
    "    zaciatok_poviedky = input('zadaj slová ktorým rozumiem\\n')\n",
    "    predikcia = predpoved(model, zaciatok_poviedky, dlzka_poviedky, top_slova)\n",
    "except KeyError and RuntimeError:\n",
    "    if poviedka[0] != \"\":\n",
    "        poviedka = poviedka[len(zaciatok_poviedky):]\n",
    "    zaciatok_poviedky = input('Zadal si {} slov namiesto {}!\\n\\nZadaj presný počet slov\\n'.format(len(zaciatok_poviedky.split(\" \")), 5))\n",
    "    predikcia = predpoved(model, zaciatok_poviedky, dlzka_poviedky, top_slova)\n",
    "\n",
    "print('\\n=== Poviedka ===')\n",
    "print(\" \".join(poviedka))"
   ]
  },
  {
   "cell_type": "code",
   "execution_count": null,
   "metadata": {},
   "outputs": [],
   "source": [
    "Vygenerovaný text po dvoch iteráciách trénovania po zadaní piatich slov:“obloha čoraz častejšie dostáva farbu“\n",
    "\n",
    "obloha čoraz častejšie dostáva farbu na nevinných no trolejbusom do vily že ho do nechápavo \n",
    "až vám keď nesie oblokom fitness že kvapku rácz s prsty ktorý stisnúť alebo jemu veď až \n",
    "na všetko fredyho a o ústam vzrušenia hneď rácz si sa necítia sebou pred sebou \n",
    "sa však a už dávno opäť stučnel stáť\n",
    "\n",
    "Po ďalších spusteniach\n",
    "obloha čoraz častejšie dostáva farbu pred všetkých života o hotelovej veľa rácz \n",
    "mohol rácz vzdiali ako sám niekedy strach s sa platnosťou že za slobodu a čo si \n",
    "chceli rácz sem no kedysi že nemá to že si sa im skončí lesknú a pozerá si dnes stôl \n",
    "každý mu nikdy pred svoju sa stane naučil\n",
    "\n",
    "obloha čoraz častejšie dostáva farbu sa nikomu ovisnutými sme ticho nový primátor \n",
    "je tmy ale inde tí sa pred seba zatvorí si o dva roky pred viacerých z dvore strany na sebou \n",
    "budov pred hotelom roboty a tiež svoj na fiškála každý sa s fľašou kotolníkom on rácz \n",
    "on rácz je predsa dal svoju mesta\n",
    "\n",
    "obloha čoraz častejšie dostáva farbu sa a pod kým kotolňu a čo ešte stále si manželky právnik \n",
    "od vždy dva hotely sa dolu chcieť sa nad mestom adaptácia už sa že spýta cenu \n",
    "si potiahne rácz pokojne na nikdy jednom ju hádam ideme ako po službe no práve sa \n",
    "ako navrhne si sa z rúk\n"
   ]
  }
 ],
 "metadata": {
  "accelerator": "GPU",
  "colab": {
   "gpuType": "T4",
   "provenance": []
  },
  "kernelspec": {
   "display_name": "Python 3 (ipykernel)",
   "language": "python",
   "name": "python3"
  },
  "language_info": {
   "codemirror_mode": {
    "name": "ipython",
    "version": 3
   },
   "file_extension": ".py",
   "mimetype": "text/x-python",
   "name": "python",
   "nbconvert_exporter": "python",
   "pygments_lexer": "ipython3",
   "version": "3.10.9"
  }
 },
 "nbformat": 4,
 "nbformat_minor": 1
}
